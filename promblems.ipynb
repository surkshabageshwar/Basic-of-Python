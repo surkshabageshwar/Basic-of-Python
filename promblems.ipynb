{
 "cells": [
  {
   "cell_type": "code",
   "execution_count": 2,
   "metadata": {},
   "outputs": [],
   "source": [
    "import pandas as pd\n",
    "import numpy as np\n",
    "import os"
   ]
  },
  {
   "cell_type": "code",
   "execution_count": 3,
   "metadata": {},
   "outputs": [
    {
     "name": "stdout",
     "output_type": "stream",
     "text": [
      "[1.0909090909090908, 1.4545454545454546, 1.303030303030303, 0.11363636363636363, 0.8363636363636363, 0.8181818181818182]\n"
     ]
    }
   ],
   "source": [
    "sale=[11,22,33,44,55,66]\n",
    "profit=[12,32,43,5,46,54]\n",
    "profitratio=[]\n",
    "for i in range(0,len(sale)):\n",
    "    profitratio.append(profit[i]/sale[i])\n",
    "print(profitratio)    "
   ]
  },
  {
   "cell_type": "code",
   "execution_count": 4,
   "metadata": {},
   "outputs": [
    {
     "name": "stdout",
     "output_type": "stream",
     "text": [
      "[1.0909090909090908]\n",
      "[1.4545454545454546]\n",
      "[1.303030303030303]\n",
      "[0.11363636363636363]\n",
      "[0.8363636363636363]\n",
      "[0.8181818181818182]\n"
     ]
    }
   ],
   "source": [
    "for(s,p) in zip(sale,profit):\n",
    "    ratio=[p/s]\n",
    "    print(ratio)\n",
    "   "
   ]
  },
  {
   "cell_type": "code",
   "execution_count": 5,
   "metadata": {},
   "outputs": [
    {
     "name": "stdout",
     "output_type": "stream",
     "text": [
      "hellow\n",
      "enter the name:surksha\n",
      "how old are you23\n",
      "enter the current year2019\n",
      "surksha it will be your age after 45 :2041\n"
     ]
    }
   ],
   "source": [
    "print('hellow')\n",
    "name=input('enter the name:')\n",
    "age=int(input('how old are you'))\n",
    "current_year=int(input('enter the current year'))\n",
    "year=str((current_year-age)+45)\n",
    "print(name+\" \"+'it will be your age after 45 :'+year)"
   ]
  },
  {
   "cell_type": "code",
   "execution_count": 14,
   "metadata": {},
   "outputs": [
    {
     "name": "stdout",
     "output_type": "stream",
     "text": [
      "enter the number33\n",
      "this is odd number\n"
     ]
    }
   ],
   "source": [
    "w=int(input('enter the number'))\n",
    "y=w%2\n",
    "if y==int():\n",
    "    print('this is even number')\n",
    "else:\n",
    "    print('this is odd number')\n",
    "    \n",
    "    "
   ]
  },
  {
   "cell_type": "code",
   "execution_count": 8,
   "metadata": {},
   "outputs": [
    {
     "name": "stdout",
     "output_type": "stream",
     "text": [
      "[11, 21, 32, 45]\n"
     ]
    }
   ],
   "source": [
    "section1=[11,21,32,4,35,45,3,76,5,93]\n",
    "section2=[23,54,6,7,41,21,11,223,32,98,67,56,45]\n",
    "item=[]\n",
    "for i in section1:\n",
    "    if i in section2:\n",
    "        if i not in item:\n",
    "            item.append(i)\n",
    "print(item)            "
   ]
  },
  {
   "cell_type": "code",
   "execution_count": 10,
   "metadata": {},
   "outputs": [
    {
     "name": "stdout",
     "output_type": "stream",
     "text": [
      "11\n",
      "22\n",
      "33\n",
      "32\n",
      "12\n",
      "34\n",
      "8\n",
      "34\n",
      "[11, 22, 33, 32, 12, 34, 8, 34]\n"
     ]
    }
   ],
   "source": [
    "mylist=[11,22,33,32,54,65,65,12,54,34,87,8,76,34]\n",
    "age_50=[]\n",
    "for i in mylist:\n",
    "    if i<50:\n",
    "        print(i)\n",
    "        age_50.append(i)\n",
    "print(age_50)            "
   ]
  },
  {
   "cell_type": "code",
   "execution_count": 9,
   "metadata": {},
   "outputs": [
    {
     "name": "stdout",
     "output_type": "stream",
     "text": [
      "enter the choice name:level\n",
      "this is a palinrome\n"
     ]
    }
   ],
   "source": [
    "name=input('enter the choice name:')\n",
    "if name==name[::-1]:\n",
    "    print('this is a palinrome')\n",
    "else:\n",
    "    print(\"this is not a palinrome\")"
   ]
  },
  {
   "cell_type": "code",
   "execution_count": 13,
   "metadata": {},
   "outputs": [
    {
     "name": "stdout",
     "output_type": "stream",
     "text": [
      "[12, 76, 56, 34, 32, 98]\n"
     ]
    }
   ],
   "source": [
    "mydata=[12,33,76,56,45,34,32,98,67]\n",
    "for i in mydata:\n",
    "    if i%2!=0:\n",
    "        mydata.remove(i)\n",
    "print(mydata)        \n",
    "    "
   ]
  },
  {
   "cell_type": "code",
   "execution_count": 21,
   "metadata": {},
   "outputs": [
    {
     "name": "stdout",
     "output_type": "stream",
     "text": [
      "type your choice number88\n",
      "[1, 2, 4, 8, 11, 22, 44, 88]\n"
     ]
    }
   ],
   "source": [
    "select_num=int(input(\"type your choice number\"))\n",
    "listrange=list(range(1,select_num+1))\n",
    "divisior=[]\n",
    "for i in listrange:\n",
    "    if select_num % i==0:\n",
    "        divisior.append(i)\n",
    "print(divisior)    \n"
   ]
  },
  {
   "cell_type": "code",
   "execution_count": 22,
   "metadata": {},
   "outputs": [],
   "source": [
    "import random\n",
    "x=random.sample(range(60),9)\n"
   ]
  },
  {
   "cell_type": "code",
   "execution_count": 23,
   "metadata": {},
   "outputs": [],
   "source": [
    "x.sort()"
   ]
  },
  {
   "cell_type": "code",
   "execution_count": 35,
   "metadata": {},
   "outputs": [
    {
     "data": {
      "text/plain": [
       "[0, 8, 17, 20, 36, 37, 46, 47, 48]"
      ]
     },
     "execution_count": 35,
     "metadata": {},
     "output_type": "execute_result"
    }
   ],
   "source": [
    "x"
   ]
  },
  {
   "cell_type": "code",
   "execution_count": 37,
   "metadata": {},
   "outputs": [],
   "source": [
    "y=[i for i in x[0::len(x)-1]]"
   ]
  },
  {
   "cell_type": "code",
   "execution_count": 31,
   "metadata": {},
   "outputs": [
    {
     "data": {
      "text/plain": [
       "[0, 48]"
      ]
     },
     "execution_count": 31,
     "metadata": {},
     "output_type": "execute_result"
    }
   ],
   "source": [
    "y"
   ]
  },
  {
   "cell_type": "code",
   "execution_count": 4,
   "metadata": {},
   "outputs": [
    {
     "name": "stdout",
     "output_type": "stream",
     "text": [
      "number in between 2 to 12:8\n",
      "your guess is low\n",
      "if you want to continue,(Y/N)N\n",
      "9\n"
     ]
    }
   ],
   "source": [
    "from random import randint\n",
    "rand=randint(2,12)\n",
    "\n",
    "while True:\n",
    "    \n",
    "    guess=int(input(\"number in between 2 to 12:\"))\n",
    "    \n",
    "    if guess==rand:\n",
    "            print('your guess is right')\n",
    "            break\n",
    "    elif guess<rand:\n",
    "            print(\"your guess is low\")\n",
    "            \n",
    "    elif guess>rand:\n",
    "    \n",
    "              print(\"your guess is high\")\n",
    "    y=input('if you want to continue,(Y/N)').upper()\n",
    "    if y=='N':\n",
    "        print(rand)\n",
    "        break"
   ]
  },
  {
   "cell_type": "code",
   "execution_count": 6,
   "metadata": {},
   "outputs": [
    {
     "name": "stdout",
     "output_type": "stream",
     "text": [
      "enter the number8\n",
      "this is not a prime number\n"
     ]
    }
   ],
   "source": [
    "num=int(input(\"enter the number\"))\n",
    "x=[y for y  in range(2,num) if(num%y==0)]\n",
    "\n",
    "\n",
    "def is_prime(n):\n",
    "    if(num>1):\n",
    "        if(len(x)==0):\n",
    "            print('this is a prime number')\n",
    "        else:\n",
    "            print(\"this is not a prime number\")\n",
    "    else:\n",
    "        print(\"not a prime number\")\n",
    "is_prime(num)        \n",
    "            "
   ]
  },
  {
   "cell_type": "code",
   "execution_count": null,
   "metadata": {},
   "outputs": [],
   "source": []
  }
 ],
 "metadata": {
  "kernelspec": {
   "display_name": "Python 3",
   "language": "python",
   "name": "python3"
  },
  "language_info": {
   "codemirror_mode": {
    "name": "ipython",
    "version": 3
   },
   "file_extension": ".py",
   "mimetype": "text/x-python",
   "name": "python",
   "nbconvert_exporter": "python",
   "pygments_lexer": "ipython3",
   "version": "3.7.1"
  }
 },
 "nbformat": 4,
 "nbformat_minor": 2
}
